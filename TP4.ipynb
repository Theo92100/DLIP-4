{
  "cells": [
    {
      "cell_type": "markdown",
      "metadata": {
        "cell_ktag": "IWMjRooj5raQ",
        "id": "bBFCYwtdKIWP"
      },
      "source": [
        "# TP4 :  Learning on a low budget\n",
        "**Théo Rudkiewicz, Cyriaque Rousselot**"
      ]
    },
    {
      "cell_type": "markdown",
      "metadata": {
        "cell_ktag": "IWMjRooj5raQ",
        "id": "Nb-Aaog-KIWQ"
      },
      "source": [
        "# Introduction\n",
        "\n",
        "**Context :**\n",
        "\n",
        "Assume we are in a context where few \"gold\" labeled data samples are available for training, say\n",
        "\n",
        "$$\\mathcal{X}_{\\text{train}} = \\{(x_n,y_n)\\}_{n\\leq N_{\\text{train}}}$$\n",
        "\n",
        "where $N_{\\text{train}}$ is small.\n",
        "\n",
        "A large test set $\\mathcal{X}_{\\text{test}}$ exists but is not accessible.\n",
        "(To make your task easier, we provide you with some data (named `test_dataset` in the code) that you can use to test your model, but you **must not** use it to train your model).\n",
        "\n",
        "We also assume that we have a limited computational budget.\n",
        "\n",
        "The goal of this practical session is to guide you through different methods that will help you get better results from few resources (data & compute)."
      ]
    },
    {
      "cell_type": "markdown",
      "metadata": {
        "cell_ktag": "IWMjRooj5raQ",
        "id": "7GdOZGdVKIWR"
      },
      "source": [
        "In this practical, we will use the `resnet18` architecture. We will use models from the [pytorch vision hub ](https://pytorch.org/vision/stable/models.html#)."
      ]
    },
    {
      "cell_type": "markdown",
      "metadata": {
        "cell_ktag": "IWMjRooj5raQ",
        "id": "oDh5zz4pKIWR"
      },
      "source": [
        "# QUESTIONS\n",
        "\n",
        "## Grading\n",
        "\n",
        "You will be graded on 5 questions. You will need to provide 7 files :\n",
        "1. This Notebook\n",
        "2. `utils.py`\n",
        "3. `last_layer_finetune.pth` (the file **must be of size less than 5Mo**)\n",
        "4. `daug_resnet.pth` (the file **must be of size less than 50Mo**)\n",
        "5. `final_model.pth` (the file **must be of size less than 50Mo**)\n",
        "6. `drawing_lora.png`\n",
        "7. `cutmix.png`\n",
        "\n",
        "If the code you defined passes all our tests, you will get the full grade. Otherwise we  will look at the intermediate questions in the notebook to give you partial credit.\n",
        "\n",
        "\n",
        "\n",
        " Please provide clear and short answers between `<div class=\"alert alert-info\">  <your answer>  </div>` tags (when it's not code).  "
      ]
    },
    {
      "cell_type": "markdown",
      "metadata": {
        "cell_ktag": "IWMjRooj5raQ",
        "id": "ITM-uQ30KIWR"
      },
      "source": [
        "<div class=\"alert alert-info\">  Example of answer  </div>"
      ]
    },
    {
      "cell_type": "code",
      "execution_count": 1,
      "metadata": {
        "cell_ktag": "IWMjRooj5raQ",
        "colab": {
          "base_uri": "https://localhost:8080/"
        },
        "collapsed": true,
        "id": "SuNaCRUIKIWS",
        "outputId": "4d994407-a05f-4e9a-b98e-ced84b64adc9"
      },
      "outputs": [
        {
          "output_type": "stream",
          "name": "stdout",
          "text": [
            "--2025-03-17 12:51:45--  https://nextcloud.lisn.upsaclay.fr/index.php/s/yzQRWE2YjmFn9WA/download/north_dataset_train.zip\n",
            "Resolving nextcloud.lisn.upsaclay.fr (nextcloud.lisn.upsaclay.fr)... 129.175.8.8\n",
            "Connecting to nextcloud.lisn.upsaclay.fr (nextcloud.lisn.upsaclay.fr)|129.175.8.8|:443... connected.\n",
            "HTTP request sent, awaiting response... 200 OK\n",
            "Length: 678531 (663K) [application/zip]\n",
            "Saving to: ‘north_dataset_train.zip’\n",
            "\n",
            "north_dataset_train 100%[===================>] 662.63K   990KB/s    in 0.7s    \n",
            "\n",
            "2025-03-17 12:51:47 (990 KB/s) - ‘north_dataset_train.zip’ saved [678531/678531]\n",
            "\n",
            "Archive:  north_dataset_train.zip\n",
            "   creating: north_dataset_sample/\n",
            "   creating: north_dataset_sample/87/\n",
            "  inflating: north_dataset_sample/87/haute-vienne_2500_0_0.jpeg  \n",
            "  inflating: north_dataset_sample/87/haute-vienne_2500_10_0.jpeg  \n",
            "  inflating: north_dataset_sample/87/haute-vienne_2500_11_0.jpeg  \n",
            "  inflating: north_dataset_sample/87/haute-vienne_2500_12_0.jpeg  \n",
            "  inflating: north_dataset_sample/87/haute-vienne_2500_13_0.jpeg  \n",
            "  inflating: north_dataset_sample/87/haute-vienne_2500_14_0.jpeg  \n",
            "  inflating: north_dataset_sample/87/haute-vienne_2500_15_0.jpeg  \n",
            "  inflating: north_dataset_sample/87/haute-vienne_2500_16_0.jpeg  \n",
            "  inflating: north_dataset_sample/87/haute-vienne_2500_17_0.jpeg  \n",
            "  inflating: north_dataset_sample/87/haute-vienne_2500_18_0.jpeg  \n",
            "  inflating: north_dataset_sample/87/haute-vienne_2500_19_0.jpeg  \n",
            "  inflating: north_dataset_sample/87/haute-vienne_2500_1_0.jpeg  \n",
            "  inflating: north_dataset_sample/87/haute-vienne_2500_20_0.jpeg  \n",
            "  inflating: north_dataset_sample/87/haute-vienne_2500_21_0.jpeg  \n",
            "  inflating: north_dataset_sample/87/haute-vienne_2500_22_0.jpeg  \n",
            "  inflating: north_dataset_sample/87/haute-vienne_2500_23_0.jpeg  \n",
            "  inflating: north_dataset_sample/87/haute-vienne_2500_24_0.jpeg  \n",
            "  inflating: north_dataset_sample/87/haute-vienne_2500_25_0.jpeg  \n",
            "  inflating: north_dataset_sample/87/haute-vienne_2500_26_0.jpeg  \n",
            "  inflating: north_dataset_sample/87/haute-vienne_2500_27_0.jpeg  \n",
            "  inflating: north_dataset_sample/87/haute-vienne_2500_28_0.jpeg  \n",
            "  inflating: north_dataset_sample/87/haute-vienne_2500_29_0.jpeg  \n",
            "  inflating: north_dataset_sample/87/haute-vienne_2500_2_0.jpeg  \n",
            "  inflating: north_dataset_sample/87/haute-vienne_2500_30_0.jpeg  \n",
            "  inflating: north_dataset_sample/87/haute-vienne_2500_3_0.jpeg  \n",
            "  inflating: north_dataset_sample/87/haute-vienne_2500_4_0.jpeg  \n",
            "  inflating: north_dataset_sample/87/haute-vienne_2500_5_0.jpeg  \n",
            "  inflating: north_dataset_sample/87/haute-vienne_2500_6_0.jpeg  \n",
            "  inflating: north_dataset_sample/87/haute-vienne_2500_7_0.jpeg  \n",
            "  inflating: north_dataset_sample/87/haute-vienne_2500_8_0.jpeg  \n",
            "  inflating: north_dataset_sample/87/haute-vienne_2500_9_0.jpeg  \n",
            "   creating: north_dataset_sample/92/\n",
            "  inflating: north_dataset_sample/92/hauts-de-seine_2500_0_0.jpeg  \n",
            "  inflating: north_dataset_sample/92/hauts-de-seine_2500_10_0.jpeg  \n",
            "  inflating: north_dataset_sample/92/hauts-de-seine_2500_1_0.jpeg  \n",
            "  inflating: north_dataset_sample/92/hauts-de-seine_2500_2_0.jpeg  \n",
            "  inflating: north_dataset_sample/92/hauts-de-seine_2500_3_0.jpeg  \n",
            "  inflating: north_dataset_sample/92/hauts-de-seine_2500_4_0.jpeg  \n",
            "  inflating: north_dataset_sample/92/hauts-de-seine_2500_5_0.jpeg  \n",
            "  inflating: north_dataset_sample/92/hauts-de-seine_2500_6_0.jpeg  \n",
            "  inflating: north_dataset_sample/92/hauts-de-seine_2500_7_0.jpeg  \n",
            "  inflating: north_dataset_sample/92/hauts-de-seine_2500_8_0.jpeg  \n",
            "  inflating: north_dataset_sample/92/hauts-de-seine_2500_9_0.jpeg  \n",
            "--2025-03-17 12:51:47--  https://nextcloud.lisn.upsaclay.fr/index.php/s/zntidWrFdYsGMDm/download/north_dataset_test.zip\n",
            "Resolving nextcloud.lisn.upsaclay.fr (nextcloud.lisn.upsaclay.fr)... 129.175.8.8\n",
            "Connecting to nextcloud.lisn.upsaclay.fr (nextcloud.lisn.upsaclay.fr)|129.175.8.8|:443... connected.\n",
            "HTTP request sent, awaiting response... 200 OK\n",
            "Length: 709556 (693K) [application/zip]\n",
            "Saving to: ‘north_dataset_test.zip’\n",
            "\n",
            "north_dataset_test. 100%[===================>] 692.93K   874KB/s    in 0.8s    \n",
            "\n",
            "2025-03-17 12:51:48 (874 KB/s) - ‘north_dataset_test.zip’ saved [709556/709556]\n",
            "\n",
            "Archive:  north_dataset_test.zip\n",
            "   creating: north_dataset_test/\n",
            "   creating: north_dataset_test/92/\n",
            "  inflating: north_dataset_test/92/hauts-de-seine_2500_100_0.jpeg  \n",
            "  inflating: north_dataset_test/92/hauts-de-seine_2500_101_0.jpeg  \n",
            "  inflating: north_dataset_test/92/hauts-de-seine_2500_102_0.jpeg  \n",
            "  inflating: north_dataset_test/92/hauts-de-seine_2500_103_0.jpeg  \n",
            "  inflating: north_dataset_test/92/hauts-de-seine_2500_104_0.jpeg  \n",
            "  inflating: north_dataset_test/92/hauts-de-seine_2500_105_0.jpeg  \n",
            "  inflating: north_dataset_test/92/hauts-de-seine_2500_106_0.jpeg  \n",
            "  inflating: north_dataset_test/92/hauts-de-seine_2500_107_0.jpeg  \n",
            "  inflating: north_dataset_test/92/hauts-de-seine_2500_108_0.jpeg  \n",
            "  inflating: north_dataset_test/92/hauts-de-seine_2500_109_0.jpeg  \n",
            "  inflating: north_dataset_test/92/hauts-de-seine_2500_110_0.jpeg  \n",
            "  inflating: north_dataset_test/92/hauts-de-seine_2500_111_0.jpeg  \n",
            "  inflating: north_dataset_test/92/hauts-de-seine_2500_112_0.jpeg  \n",
            "  inflating: north_dataset_test/92/hauts-de-seine_2500_113_0.jpeg  \n",
            "  inflating: north_dataset_test/92/hauts-de-seine_2500_114_0.jpeg  \n",
            "  inflating: north_dataset_test/92/hauts-de-seine_2500_115_0.jpeg  \n",
            "  inflating: north_dataset_test/92/hauts-de-seine_2500_116_0.jpeg  \n",
            "  inflating: north_dataset_test/92/hauts-de-seine_2500_117_0.jpeg  \n",
            "  inflating: north_dataset_test/92/hauts-de-seine_2500_118_0.jpeg  \n",
            "  inflating: north_dataset_test/92/hauts-de-seine_2500_119_0.jpeg  \n",
            "  inflating: north_dataset_test/92/hauts-de-seine_2500_120_0.jpeg  \n",
            "   creating: north_dataset_test/87/\n",
            "  inflating: north_dataset_test/87/haute-vienne_2500_100_0.jpeg  \n",
            "  inflating: north_dataset_test/87/haute-vienne_2500_101_0.jpeg  \n",
            "  inflating: north_dataset_test/87/haute-vienne_2500_102_0.jpeg  \n",
            "  inflating: north_dataset_test/87/haute-vienne_2500_103_0.jpeg  \n",
            "  inflating: north_dataset_test/87/haute-vienne_2500_104_0.jpeg  \n",
            "  inflating: north_dataset_test/87/haute-vienne_2500_105_0.jpeg  \n",
            "  inflating: north_dataset_test/87/haute-vienne_2500_106_0.jpeg  \n",
            "  inflating: north_dataset_test/87/haute-vienne_2500_107_0.jpeg  \n",
            "  inflating: north_dataset_test/87/haute-vienne_2500_108_0.jpeg  \n",
            "  inflating: north_dataset_test/87/haute-vienne_2500_109_0.jpeg  \n",
            "  inflating: north_dataset_test/87/haute-vienne_2500_110_0.jpeg  \n",
            "  inflating: north_dataset_test/87/haute-vienne_2500_111_0.jpeg  \n",
            "  inflating: north_dataset_test/87/haute-vienne_2500_112_0.jpeg  \n",
            "  inflating: north_dataset_test/87/haute-vienne_2500_113_0.jpeg  \n",
            "  inflating: north_dataset_test/87/haute-vienne_2500_114_0.jpeg  \n",
            "  inflating: north_dataset_test/87/haute-vienne_2500_115_0.jpeg  \n",
            "  inflating: north_dataset_test/87/haute-vienne_2500_116_0.jpeg  \n",
            "  inflating: north_dataset_test/87/haute-vienne_2500_117_0.jpeg  \n",
            "  inflating: north_dataset_test/87/haute-vienne_2500_118_0.jpeg  \n",
            "  inflating: north_dataset_test/87/haute-vienne_2500_119_0.jpeg  \n",
            "  inflating: north_dataset_test/87/haute-vienne_2500_120_0.jpeg  \n"
          ]
        }
      ],
      "source": [
        "import os\n",
        "\n",
        "if not os.path.exists(\"data\"):\n",
        "    os.mkdir(\"data\")\n",
        "if not os.path.exists(\"data/TP4_images\"):\n",
        "    os.mkdir(\"data/TP4_images\")\n",
        "    !cd data/TP4_images && wget -O north_dataset_train.zip  \"https://nextcloud.lisn.upsaclay.fr/index.php/s/yzQRWE2YjmFn9WA/download/north_dataset_train.zip\" && unzip north_dataset_train.zip\n",
        "    !cd data/TP4_images && wget -O north_dataset_test.zip  \"https://nextcloud.lisn.upsaclay.fr/index.php/s/zntidWrFdYsGMDm/download/north_dataset_test.zip\" && unzip north_dataset_test.zip\n",
        "dir_path = \"data/TP4_images/\"\n"
      ]
    },
    {
      "cell_type": "code",
      "source": [
        "!pip install torchmetrics"
      ],
      "metadata": {
        "colab": {
          "base_uri": "https://localhost:8080/"
        },
        "collapsed": true,
        "id": "gBl4jnxIKaVX",
        "outputId": "a6b28b92-5999-4e5a-e5f9-de8f5235c609"
      },
      "execution_count": 3,
      "outputs": [
        {
          "output_type": "stream",
          "name": "stdout",
          "text": [
            "Collecting torchmetrics\n",
            "  Downloading torchmetrics-1.6.3-py3-none-any.whl.metadata (20 kB)\n",
            "Requirement already satisfied: numpy>1.20.0 in /usr/local/lib/python3.11/dist-packages (from torchmetrics) (1.26.4)\n",
            "Requirement already satisfied: packaging>17.1 in /usr/local/lib/python3.11/dist-packages (from torchmetrics) (24.2)\n",
            "Requirement already satisfied: torch>=2.0.0 in /usr/local/lib/python3.11/dist-packages (from torchmetrics) (2.6.0+cu124)\n",
            "Collecting lightning-utilities>=0.8.0 (from torchmetrics)\n",
            "  Downloading lightning_utilities-0.14.1-py3-none-any.whl.metadata (5.6 kB)\n",
            "Requirement already satisfied: setuptools in /usr/local/lib/python3.11/dist-packages (from lightning-utilities>=0.8.0->torchmetrics) (75.1.0)\n",
            "Requirement already satisfied: typing_extensions in /usr/local/lib/python3.11/dist-packages (from lightning-utilities>=0.8.0->torchmetrics) (4.12.2)\n",
            "Requirement already satisfied: filelock in /usr/local/lib/python3.11/dist-packages (from torch>=2.0.0->torchmetrics) (3.17.0)\n",
            "Requirement already satisfied: networkx in /usr/local/lib/python3.11/dist-packages (from torch>=2.0.0->torchmetrics) (3.4.2)\n",
            "Requirement already satisfied: jinja2 in /usr/local/lib/python3.11/dist-packages (from torch>=2.0.0->torchmetrics) (3.1.6)\n",
            "Requirement already satisfied: fsspec in /usr/local/lib/python3.11/dist-packages (from torch>=2.0.0->torchmetrics) (2024.10.0)\n",
            "Collecting nvidia-cuda-nvrtc-cu12==12.4.127 (from torch>=2.0.0->torchmetrics)\n",
            "  Downloading nvidia_cuda_nvrtc_cu12-12.4.127-py3-none-manylinux2014_x86_64.whl.metadata (1.5 kB)\n",
            "Collecting nvidia-cuda-runtime-cu12==12.4.127 (from torch>=2.0.0->torchmetrics)\n",
            "  Downloading nvidia_cuda_runtime_cu12-12.4.127-py3-none-manylinux2014_x86_64.whl.metadata (1.5 kB)\n",
            "Collecting nvidia-cuda-cupti-cu12==12.4.127 (from torch>=2.0.0->torchmetrics)\n",
            "  Downloading nvidia_cuda_cupti_cu12-12.4.127-py3-none-manylinux2014_x86_64.whl.metadata (1.6 kB)\n",
            "Collecting nvidia-cudnn-cu12==9.1.0.70 (from torch>=2.0.0->torchmetrics)\n",
            "  Downloading nvidia_cudnn_cu12-9.1.0.70-py3-none-manylinux2014_x86_64.whl.metadata (1.6 kB)\n",
            "Collecting nvidia-cublas-cu12==12.4.5.8 (from torch>=2.0.0->torchmetrics)\n",
            "  Downloading nvidia_cublas_cu12-12.4.5.8-py3-none-manylinux2014_x86_64.whl.metadata (1.5 kB)\n",
            "Collecting nvidia-cufft-cu12==11.2.1.3 (from torch>=2.0.0->torchmetrics)\n",
            "  Downloading nvidia_cufft_cu12-11.2.1.3-py3-none-manylinux2014_x86_64.whl.metadata (1.5 kB)\n",
            "Collecting nvidia-curand-cu12==10.3.5.147 (from torch>=2.0.0->torchmetrics)\n",
            "  Downloading nvidia_curand_cu12-10.3.5.147-py3-none-manylinux2014_x86_64.whl.metadata (1.5 kB)\n",
            "Collecting nvidia-cusolver-cu12==11.6.1.9 (from torch>=2.0.0->torchmetrics)\n",
            "  Downloading nvidia_cusolver_cu12-11.6.1.9-py3-none-manylinux2014_x86_64.whl.metadata (1.6 kB)\n",
            "Collecting nvidia-cusparse-cu12==12.3.1.170 (from torch>=2.0.0->torchmetrics)\n",
            "  Downloading nvidia_cusparse_cu12-12.3.1.170-py3-none-manylinux2014_x86_64.whl.metadata (1.6 kB)\n",
            "Requirement already satisfied: nvidia-cusparselt-cu12==0.6.2 in /usr/local/lib/python3.11/dist-packages (from torch>=2.0.0->torchmetrics) (0.6.2)\n",
            "Requirement already satisfied: nvidia-nccl-cu12==2.21.5 in /usr/local/lib/python3.11/dist-packages (from torch>=2.0.0->torchmetrics) (2.21.5)\n",
            "Requirement already satisfied: nvidia-nvtx-cu12==12.4.127 in /usr/local/lib/python3.11/dist-packages (from torch>=2.0.0->torchmetrics) (12.4.127)\n",
            "Collecting nvidia-nvjitlink-cu12==12.4.127 (from torch>=2.0.0->torchmetrics)\n",
            "  Downloading nvidia_nvjitlink_cu12-12.4.127-py3-none-manylinux2014_x86_64.whl.metadata (1.5 kB)\n",
            "Requirement already satisfied: triton==3.2.0 in /usr/local/lib/python3.11/dist-packages (from torch>=2.0.0->torchmetrics) (3.2.0)\n",
            "Requirement already satisfied: sympy==1.13.1 in /usr/local/lib/python3.11/dist-packages (from torch>=2.0.0->torchmetrics) (1.13.1)\n",
            "Requirement already satisfied: mpmath<1.4,>=1.1.0 in /usr/local/lib/python3.11/dist-packages (from sympy==1.13.1->torch>=2.0.0->torchmetrics) (1.3.0)\n",
            "Requirement already satisfied: MarkupSafe>=2.0 in /usr/local/lib/python3.11/dist-packages (from jinja2->torch>=2.0.0->torchmetrics) (3.0.2)\n",
            "Downloading torchmetrics-1.6.3-py3-none-any.whl (931 kB)\n",
            "\u001b[2K   \u001b[90m━━━━━━━━━━━━━━━━━━━━━━━━━━━━━━━━━━━━━━━━\u001b[0m \u001b[32m931.7/931.7 kB\u001b[0m \u001b[31m24.8 MB/s\u001b[0m eta \u001b[36m0:00:00\u001b[0m\n",
            "\u001b[?25hDownloading lightning_utilities-0.14.1-py3-none-any.whl (28 kB)\n",
            "Downloading nvidia_cublas_cu12-12.4.5.8-py3-none-manylinux2014_x86_64.whl (363.4 MB)\n",
            "\u001b[2K   \u001b[90m━━━━━━━━━━━━━━━━━━━━━━━━━━━━━━━━━━━━━━━━\u001b[0m \u001b[32m363.4/363.4 MB\u001b[0m \u001b[31m4.4 MB/s\u001b[0m eta \u001b[36m0:00:00\u001b[0m\n",
            "\u001b[?25hDownloading nvidia_cuda_cupti_cu12-12.4.127-py3-none-manylinux2014_x86_64.whl (13.8 MB)\n",
            "\u001b[2K   \u001b[90m━━━━━━━━━━━━━━━━━━━━━━━━━━━━━━━━━━━━━━━━\u001b[0m \u001b[32m13.8/13.8 MB\u001b[0m \u001b[31m86.8 MB/s\u001b[0m eta \u001b[36m0:00:00\u001b[0m\n",
            "\u001b[?25hDownloading nvidia_cuda_nvrtc_cu12-12.4.127-py3-none-manylinux2014_x86_64.whl (24.6 MB)\n",
            "\u001b[2K   \u001b[90m━━━━━━━━━━━━━━━━━━━━━━━━━━━━━━━━━━━━━━━━\u001b[0m \u001b[32m24.6/24.6 MB\u001b[0m \u001b[31m73.8 MB/s\u001b[0m eta \u001b[36m0:00:00\u001b[0m\n",
            "\u001b[?25hDownloading nvidia_cuda_runtime_cu12-12.4.127-py3-none-manylinux2014_x86_64.whl (883 kB)\n",
            "\u001b[2K   \u001b[90m━━━━━━━━━━━━━━━━━━━━━━━━━━━━━━━━━━━━━━━━\u001b[0m \u001b[32m883.7/883.7 kB\u001b[0m \u001b[31m49.1 MB/s\u001b[0m eta \u001b[36m0:00:00\u001b[0m\n",
            "\u001b[?25hDownloading nvidia_cudnn_cu12-9.1.0.70-py3-none-manylinux2014_x86_64.whl (664.8 MB)\n",
            "\u001b[2K   \u001b[90m━━━━━━━━━━━━━━━━━━━━━━━━━━━━━━━━━━━━━━━━\u001b[0m \u001b[32m664.8/664.8 MB\u001b[0m \u001b[31m850.7 kB/s\u001b[0m eta \u001b[36m0:00:00\u001b[0m\n",
            "\u001b[?25hDownloading nvidia_cufft_cu12-11.2.1.3-py3-none-manylinux2014_x86_64.whl (211.5 MB)\n",
            "\u001b[2K   \u001b[90m━━━━━━━━━━━━━━━━━━━━━━━━━━━━━━━━━━━━━━━━\u001b[0m \u001b[32m211.5/211.5 MB\u001b[0m \u001b[31m5.8 MB/s\u001b[0m eta \u001b[36m0:00:00\u001b[0m\n",
            "\u001b[?25hDownloading nvidia_curand_cu12-10.3.5.147-py3-none-manylinux2014_x86_64.whl (56.3 MB)\n",
            "\u001b[2K   \u001b[90m━━━━━━━━━━━━━━━━━━━━━━━━━━━━━━━━━━━━━━━━\u001b[0m \u001b[32m56.3/56.3 MB\u001b[0m \u001b[31m12.4 MB/s\u001b[0m eta \u001b[36m0:00:00\u001b[0m\n",
            "\u001b[?25hDownloading nvidia_cusolver_cu12-11.6.1.9-py3-none-manylinux2014_x86_64.whl (127.9 MB)\n",
            "\u001b[2K   \u001b[90m━━━━━━━━━━━━━━━━━━━━━━━━━━━━━━━━━━━━━━━━\u001b[0m \u001b[32m127.9/127.9 MB\u001b[0m \u001b[31m7.9 MB/s\u001b[0m eta \u001b[36m0:00:00\u001b[0m\n",
            "\u001b[?25hDownloading nvidia_cusparse_cu12-12.3.1.170-py3-none-manylinux2014_x86_64.whl (207.5 MB)\n",
            "\u001b[2K   \u001b[90m━━━━━━━━━━━━━━━━━━━━━━━━━━━━━━━━━━━━━━━━\u001b[0m \u001b[32m207.5/207.5 MB\u001b[0m \u001b[31m6.3 MB/s\u001b[0m eta \u001b[36m0:00:00\u001b[0m\n",
            "\u001b[?25hDownloading nvidia_nvjitlink_cu12-12.4.127-py3-none-manylinux2014_x86_64.whl (21.1 MB)\n",
            "\u001b[2K   \u001b[90m━━━━━━━━━━━━━━━━━━━━━━━━━━━━━━━━━━━━━━━━\u001b[0m \u001b[32m21.1/21.1 MB\u001b[0m \u001b[31m79.0 MB/s\u001b[0m eta \u001b[36m0:00:00\u001b[0m\n",
            "\u001b[?25hInstalling collected packages: nvidia-nvjitlink-cu12, nvidia-curand-cu12, nvidia-cufft-cu12, nvidia-cuda-runtime-cu12, nvidia-cuda-nvrtc-cu12, nvidia-cuda-cupti-cu12, nvidia-cublas-cu12, lightning-utilities, nvidia-cusparse-cu12, nvidia-cudnn-cu12, nvidia-cusolver-cu12, torchmetrics\n",
            "  Attempting uninstall: nvidia-nvjitlink-cu12\n",
            "    Found existing installation: nvidia-nvjitlink-cu12 12.5.82\n",
            "    Uninstalling nvidia-nvjitlink-cu12-12.5.82:\n",
            "      Successfully uninstalled nvidia-nvjitlink-cu12-12.5.82\n",
            "  Attempting uninstall: nvidia-curand-cu12\n",
            "    Found existing installation: nvidia-curand-cu12 10.3.6.82\n",
            "    Uninstalling nvidia-curand-cu12-10.3.6.82:\n",
            "      Successfully uninstalled nvidia-curand-cu12-10.3.6.82\n",
            "  Attempting uninstall: nvidia-cufft-cu12\n",
            "    Found existing installation: nvidia-cufft-cu12 11.2.3.61\n",
            "    Uninstalling nvidia-cufft-cu12-11.2.3.61:\n",
            "      Successfully uninstalled nvidia-cufft-cu12-11.2.3.61\n",
            "  Attempting uninstall: nvidia-cuda-runtime-cu12\n",
            "    Found existing installation: nvidia-cuda-runtime-cu12 12.5.82\n",
            "    Uninstalling nvidia-cuda-runtime-cu12-12.5.82:\n",
            "      Successfully uninstalled nvidia-cuda-runtime-cu12-12.5.82\n",
            "  Attempting uninstall: nvidia-cuda-nvrtc-cu12\n",
            "    Found existing installation: nvidia-cuda-nvrtc-cu12 12.5.82\n",
            "    Uninstalling nvidia-cuda-nvrtc-cu12-12.5.82:\n",
            "      Successfully uninstalled nvidia-cuda-nvrtc-cu12-12.5.82\n",
            "  Attempting uninstall: nvidia-cuda-cupti-cu12\n",
            "    Found existing installation: nvidia-cuda-cupti-cu12 12.5.82\n",
            "    Uninstalling nvidia-cuda-cupti-cu12-12.5.82:\n",
            "      Successfully uninstalled nvidia-cuda-cupti-cu12-12.5.82\n",
            "  Attempting uninstall: nvidia-cublas-cu12\n",
            "    Found existing installation: nvidia-cublas-cu12 12.5.3.2\n",
            "    Uninstalling nvidia-cublas-cu12-12.5.3.2:\n",
            "      Successfully uninstalled nvidia-cublas-cu12-12.5.3.2\n",
            "  Attempting uninstall: nvidia-cusparse-cu12\n",
            "    Found existing installation: nvidia-cusparse-cu12 12.5.1.3\n",
            "    Uninstalling nvidia-cusparse-cu12-12.5.1.3:\n",
            "      Successfully uninstalled nvidia-cusparse-cu12-12.5.1.3\n",
            "  Attempting uninstall: nvidia-cudnn-cu12\n",
            "    Found existing installation: nvidia-cudnn-cu12 9.3.0.75\n",
            "    Uninstalling nvidia-cudnn-cu12-9.3.0.75:\n",
            "      Successfully uninstalled nvidia-cudnn-cu12-9.3.0.75\n",
            "  Attempting uninstall: nvidia-cusolver-cu12\n",
            "    Found existing installation: nvidia-cusolver-cu12 11.6.3.83\n",
            "    Uninstalling nvidia-cusolver-cu12-11.6.3.83:\n",
            "      Successfully uninstalled nvidia-cusolver-cu12-11.6.3.83\n",
            "Successfully installed lightning-utilities-0.14.1 nvidia-cublas-cu12-12.4.5.8 nvidia-cuda-cupti-cu12-12.4.127 nvidia-cuda-nvrtc-cu12-12.4.127 nvidia-cuda-runtime-cu12-12.4.127 nvidia-cudnn-cu12-9.1.0.70 nvidia-cufft-cu12-11.2.1.3 nvidia-curand-cu12-10.3.5.147 nvidia-cusolver-cu12-11.6.1.9 nvidia-cusparse-cu12-12.3.1.170 nvidia-nvjitlink-cu12-12.4.127 torchmetrics-1.6.3\n"
          ]
        }
      ]
    },
    {
      "cell_type": "code",
      "execution_count": 8,
      "metadata": {
        "cell_ktag": "IWMjRooj5raQ",
        "id": "SjsEJL9pKIWS"
      },
      "outputs": [],
      "source": [
        "import torch\n",
        "import torch.nn as nn\n",
        "from torchvision import datasets, transforms, models\n",
        "from torchmetrics.classification import BinaryAccuracy, Accuracy, ConfusionMatrix\n",
        "# you can install torchmetrics with `pip install torchmetrics`\n",
        "\n",
        "\n",
        "device = torch.device(\"cuda\" if torch.cuda.is_available() else \"cpu\")\n",
        "\n",
        "\n",
        "north_dataset = datasets.ImageFolder(\n",
        "    dir_path + \"north_dataset_sample\",\n",
        "    transform=transforms.Compose([transforms.ToTensor()]),\n",
        ")\n",
        "test_dataset = datasets.ImageFolder(\n",
        "    dir_path + \"north_dataset_test\",\n",
        "    transform=transforms.Compose([transforms.ToTensor()]),\n",
        ")\n",
        "base_model = models.resnet18()"
      ]
    },
    {
      "cell_type": "markdown",
      "metadata": {
        "cell_ktag": "IWMjRooj5raQ",
        "id": "I3ozk2qDKIWT"
      },
      "source": [
        "## Question 1 :\n",
        ">  Change the last layer of the resnet model so that its size fits the problem."
      ]
    },
    {
      "cell_type": "code",
      "execution_count": 10,
      "metadata": {
        "cell_ktag": "IWMjRooj5raQ",
        "colab": {
          "base_uri": "https://localhost:8080/"
        },
        "collapsed": true,
        "id": "-PNBwUj_KIWT",
        "outputId": "0abbaed1-f1b3-43d5-94c0-fe85d2d590f4"
      },
      "outputs": [
        {
          "output_type": "stream",
          "name": "stdout",
          "text": [
            "ResNet(\n",
            "  (conv1): Conv2d(3, 64, kernel_size=(7, 7), stride=(2, 2), padding=(3, 3), bias=False)\n",
            "  (bn1): BatchNorm2d(64, eps=1e-05, momentum=0.1, affine=True, track_running_stats=True)\n",
            "  (relu): ReLU(inplace=True)\n",
            "  (maxpool): MaxPool2d(kernel_size=3, stride=2, padding=1, dilation=1, ceil_mode=False)\n",
            "  (layer1): Sequential(\n",
            "    (0): BasicBlock(\n",
            "      (conv1): Conv2d(64, 64, kernel_size=(3, 3), stride=(1, 1), padding=(1, 1), bias=False)\n",
            "      (bn1): BatchNorm2d(64, eps=1e-05, momentum=0.1, affine=True, track_running_stats=True)\n",
            "      (relu): ReLU(inplace=True)\n",
            "      (conv2): Conv2d(64, 64, kernel_size=(3, 3), stride=(1, 1), padding=(1, 1), bias=False)\n",
            "      (bn2): BatchNorm2d(64, eps=1e-05, momentum=0.1, affine=True, track_running_stats=True)\n",
            "    )\n",
            "    (1): BasicBlock(\n",
            "      (conv1): Conv2d(64, 64, kernel_size=(3, 3), stride=(1, 1), padding=(1, 1), bias=False)\n",
            "      (bn1): BatchNorm2d(64, eps=1e-05, momentum=0.1, affine=True, track_running_stats=True)\n",
            "      (relu): ReLU(inplace=True)\n",
            "      (conv2): Conv2d(64, 64, kernel_size=(3, 3), stride=(1, 1), padding=(1, 1), bias=False)\n",
            "      (bn2): BatchNorm2d(64, eps=1e-05, momentum=0.1, affine=True, track_running_stats=True)\n",
            "    )\n",
            "  )\n",
            "  (layer2): Sequential(\n",
            "    (0): BasicBlock(\n",
            "      (conv1): Conv2d(64, 128, kernel_size=(3, 3), stride=(2, 2), padding=(1, 1), bias=False)\n",
            "      (bn1): BatchNorm2d(128, eps=1e-05, momentum=0.1, affine=True, track_running_stats=True)\n",
            "      (relu): ReLU(inplace=True)\n",
            "      (conv2): Conv2d(128, 128, kernel_size=(3, 3), stride=(1, 1), padding=(1, 1), bias=False)\n",
            "      (bn2): BatchNorm2d(128, eps=1e-05, momentum=0.1, affine=True, track_running_stats=True)\n",
            "      (downsample): Sequential(\n",
            "        (0): Conv2d(64, 128, kernel_size=(1, 1), stride=(2, 2), bias=False)\n",
            "        (1): BatchNorm2d(128, eps=1e-05, momentum=0.1, affine=True, track_running_stats=True)\n",
            "      )\n",
            "    )\n",
            "    (1): BasicBlock(\n",
            "      (conv1): Conv2d(128, 128, kernel_size=(3, 3), stride=(1, 1), padding=(1, 1), bias=False)\n",
            "      (bn1): BatchNorm2d(128, eps=1e-05, momentum=0.1, affine=True, track_running_stats=True)\n",
            "      (relu): ReLU(inplace=True)\n",
            "      (conv2): Conv2d(128, 128, kernel_size=(3, 3), stride=(1, 1), padding=(1, 1), bias=False)\n",
            "      (bn2): BatchNorm2d(128, eps=1e-05, momentum=0.1, affine=True, track_running_stats=True)\n",
            "    )\n",
            "  )\n",
            "  (layer3): Sequential(\n",
            "    (0): BasicBlock(\n",
            "      (conv1): Conv2d(128, 256, kernel_size=(3, 3), stride=(2, 2), padding=(1, 1), bias=False)\n",
            "      (bn1): BatchNorm2d(256, eps=1e-05, momentum=0.1, affine=True, track_running_stats=True)\n",
            "      (relu): ReLU(inplace=True)\n",
            "      (conv2): Conv2d(256, 256, kernel_size=(3, 3), stride=(1, 1), padding=(1, 1), bias=False)\n",
            "      (bn2): BatchNorm2d(256, eps=1e-05, momentum=0.1, affine=True, track_running_stats=True)\n",
            "      (downsample): Sequential(\n",
            "        (0): Conv2d(128, 256, kernel_size=(1, 1), stride=(2, 2), bias=False)\n",
            "        (1): BatchNorm2d(256, eps=1e-05, momentum=0.1, affine=True, track_running_stats=True)\n",
            "      )\n",
            "    )\n",
            "    (1): BasicBlock(\n",
            "      (conv1): Conv2d(256, 256, kernel_size=(3, 3), stride=(1, 1), padding=(1, 1), bias=False)\n",
            "      (bn1): BatchNorm2d(256, eps=1e-05, momentum=0.1, affine=True, track_running_stats=True)\n",
            "      (relu): ReLU(inplace=True)\n",
            "      (conv2): Conv2d(256, 256, kernel_size=(3, 3), stride=(1, 1), padding=(1, 1), bias=False)\n",
            "      (bn2): BatchNorm2d(256, eps=1e-05, momentum=0.1, affine=True, track_running_stats=True)\n",
            "    )\n",
            "  )\n",
            "  (layer4): Sequential(\n",
            "    (0): BasicBlock(\n",
            "      (conv1): Conv2d(256, 512, kernel_size=(3, 3), stride=(2, 2), padding=(1, 1), bias=False)\n",
            "      (bn1): BatchNorm2d(512, eps=1e-05, momentum=0.1, affine=True, track_running_stats=True)\n",
            "      (relu): ReLU(inplace=True)\n",
            "      (conv2): Conv2d(512, 512, kernel_size=(3, 3), stride=(1, 1), padding=(1, 1), bias=False)\n",
            "      (bn2): BatchNorm2d(512, eps=1e-05, momentum=0.1, affine=True, track_running_stats=True)\n",
            "      (downsample): Sequential(\n",
            "        (0): Conv2d(256, 512, kernel_size=(1, 1), stride=(2, 2), bias=False)\n",
            "        (1): BatchNorm2d(512, eps=1e-05, momentum=0.1, affine=True, track_running_stats=True)\n",
            "      )\n",
            "    )\n",
            "    (1): BasicBlock(\n",
            "      (conv1): Conv2d(512, 512, kernel_size=(3, 3), stride=(1, 1), padding=(1, 1), bias=False)\n",
            "      (bn1): BatchNorm2d(512, eps=1e-05, momentum=0.1, affine=True, track_running_stats=True)\n",
            "      (relu): ReLU(inplace=True)\n",
            "      (conv2): Conv2d(512, 512, kernel_size=(3, 3), stride=(1, 1), padding=(1, 1), bias=False)\n",
            "      (bn2): BatchNorm2d(512, eps=1e-05, momentum=0.1, affine=True, track_running_stats=True)\n",
            "    )\n",
            "  )\n",
            "  (avgpool): AdaptiveAvgPool2d(output_size=(1, 1))\n",
            "  (fc): Linear(in_features=512, out_features=2, bias=True)\n",
            ")\n"
          ]
        }
      ],
      "source": [
        "import torch.nn as nn\n",
        "\n",
        "# Change to 2 layers the last linear\n",
        "in_features = base_model.fc.in_features\n",
        "base_model.fc = nn.Linear(in_features, 2)\n",
        "print(base_model)\n"
      ]
    },
    {
      "cell_type": "code",
      "execution_count": 11,
      "metadata": {
        "cell_ktag": "IWMjRooj5raQ",
        "id": "W-VHlzSDKIWT"
      },
      "outputs": [],
      "source": [
        "assert (\n",
        "    base_model.fc.out_features == 2\n",
        ")  # we could also change the last layer to have 1 output. Do it with 2 so that it matches our tests procedure during grading."
      ]
    },
    {
      "cell_type": "markdown",
      "metadata": {
        "cell_ktag": "IWMjRooj5raQ",
        "id": "rYUC1ekuKIWU"
      },
      "source": [
        "## Question 2:\n",
        "> Train the last layer of a randomly initialized resnet model. Provide a function precompute_features in `utils.py` that creates a new dataset from the features precomputed by the model.\n",
        "\n",
        "Intermediate question :  Provide the training process in the notebook with training curve. Comment on the accuracy."
      ]
    },
    {
      "cell_type": "code",
      "source": [
        "import torch\n",
        "import torch.nn as nn\n",
        "import torch.optim as optim\n",
        "from torch.utils.data import DataLoader\n",
        "import matplotlib.pyplot as plt\n",
        "from torchvision import models\n",
        "from utils import precompute_features, LastLayer  # Import your functions and modules\n",
        "\n",
        "\n",
        "# Device configuration\n",
        "device = torch.device(\"cuda\" if torch.cuda.is_available() else \"cpu\")\n",
        "\n",
        "resnet = models.resnet18(weights=None)  # randomly initialized\n",
        "resnet.fc = nn.Identity()\n",
        "resnet.to(device)\n",
        "\n",
        "precomputed_dataset = precompute_features(resnet, north_dataset, device)\n",
        "\n",
        "# Create a DataLoader for the new dataset\n",
        "train_loader = DataLoader(precomputed_dataset, batch_size=32, shuffle=True)\n",
        "\n",
        "# 2. Create the last layer model that takes the precomputed features as input.\n",
        "last_layer = LastLayer().to(device)\n",
        "\n",
        "# 3. Define loss function and optimizer\n",
        "criterion = nn.CrossEntropyLoss()\n",
        "optimizer = optim.Adam(last_layer.parameters(), lr=1e-3) #adjust the lr maybe\n",
        "\n",
        "# 4. Training loop\n",
        "num_epochs = 20\n",
        "train_losses = []\n",
        "train_accuracies = []\n",
        "\n",
        "for epoch in range(num_epochs):\n",
        "    last_layer.train()\n",
        "    running_loss = 0.0\n",
        "    correct = 0\n",
        "    total = 0\n",
        "\n",
        "    for features, labels in train_loader:\n",
        "        features, labels = features.to(device), labels.to(device)\n",
        "\n",
        "        optimizer.zero_grad()\n",
        "        outputs = last_layer(features)\n",
        "        loss = criterion(outputs, labels)\n",
        "        loss.backward()\n",
        "        optimizer.step()\n",
        "\n",
        "        running_loss += loss.item() * features.size(0)\n",
        "        _, predicted = torch.max(outputs, 1)\n",
        "        total += labels.size(0)\n",
        "        correct += (predicted == labels).sum().item()\n",
        "\n",
        "    epoch_loss = running_loss / total\n",
        "    epoch_acc = correct / total\n",
        "    train_losses.append(epoch_loss)\n",
        "    train_accuracies.append(epoch_acc)\n",
        "\n",
        "    print(f\"Epoch {epoch+1}/{num_epochs}, Loss: {epoch_loss:.4f}, Accuracy: {epoch_acc:.4f}\")\n",
        "\n",
        "# 5. Plot the training curves\n",
        "plt.figure(figsize=(12,5))\n",
        "\n",
        "plt.subplot(1,2,1)\n",
        "plt.plot(train_losses, marker='o', label='Train Loss')\n",
        "plt.xlabel('Epoch')\n",
        "plt.ylabel('Loss')\n",
        "plt.title('Training Loss Curve')\n",
        "plt.legend()\n",
        "\n",
        "plt.subplot(1,2,2)\n",
        "plt.plot(train_accuracies, marker='o', label='Train Accuracy')\n",
        "plt.xlabel('Epoch')\n",
        "plt.ylabel('Accuracy')\n",
        "plt.title('Training Accuracy')\n",
        "plt.legend()\n",
        "\n",
        "plt.tight_layout()\n",
        "plt.show()\n"
      ],
      "metadata": {
        "colab": {
          "base_uri": "https://localhost:8080/",
          "height": 854
        },
        "collapsed": true,
        "id": "jvSSyywlMzVC",
        "outputId": "adb8de40-5493-4541-fbc9-8fd2631ae174"
      },
      "execution_count": 16,
      "outputs": [
        {
          "output_type": "stream",
          "name": "stdout",
          "text": [
            "Epoch 1/20, Loss: 0.5962, Accuracy: 0.7381\n",
            "Epoch 2/20, Loss: 0.5860, Accuracy: 0.7381\n",
            "Epoch 3/20, Loss: 0.6233, Accuracy: 0.7381\n",
            "Epoch 4/20, Loss: 0.6134, Accuracy: 0.7381\n",
            "Epoch 5/20, Loss: 0.5878, Accuracy: 0.7381\n",
            "Epoch 6/20, Loss: 0.6053, Accuracy: 0.7381\n",
            "Epoch 7/20, Loss: 0.6215, Accuracy: 0.7381\n",
            "Epoch 8/20, Loss: 0.6040, Accuracy: 0.7381\n",
            "Epoch 9/20, Loss: 0.5976, Accuracy: 0.7381\n",
            "Epoch 10/20, Loss: 0.5892, Accuracy: 0.7381\n",
            "Epoch 11/20, Loss: 0.5969, Accuracy: 0.7381\n",
            "Epoch 12/20, Loss: 0.5937, Accuracy: 0.7381\n",
            "Epoch 13/20, Loss: 0.5873, Accuracy: 0.7381\n",
            "Epoch 14/20, Loss: 0.5860, Accuracy: 0.7381\n",
            "Epoch 15/20, Loss: 0.5918, Accuracy: 0.7381\n",
            "Epoch 16/20, Loss: 0.5948, Accuracy: 0.7381\n",
            "Epoch 17/20, Loss: 0.5858, Accuracy: 0.7381\n",
            "Epoch 18/20, Loss: 0.5850, Accuracy: 0.7381\n",
            "Epoch 19/20, Loss: 0.5849, Accuracy: 0.7381\n",
            "Epoch 20/20, Loss: 0.5881, Accuracy: 0.7381\n"
          ]
        },
        {
          "output_type": "display_data",
          "data": {
            "text/plain": [
              "<Figure size 1200x500 with 2 Axes>"
            ],
            "image/png": "[encoded data removed]"
          },
          "metadata": {}
        }
      ]
    },
    {
      "cell_type": "markdown",
      "metadata": {
        "cell_ktag": "IWMjRooj5raQ",
        "id": "vKwhm9jUKIWU"
      },
      "source": [
        "<div class=\"alert alert-info\"> In this example, we first replace the final fully connected layer of the randomly initialized ResNet18 with an identity layer so that we can precompute the intermediate features using the provided <code>precompute_features</code> function. Then we train a separate <code>LastLayer</code> model on these features using cross-entropy loss. The training loop runs for 20 epochs, and we record and plot the loss and accuracy after each epoch.\n",
        "Because the ResNet feature extractor is randomly initialized, the precomputed features are not very meaningful. As a result, you may observe that the accuracy stays the same throughout the procedure here 0.73 even though the training loss decreases. This highlights the importance of using a pretrained feature extractor for better performance.\n",
        "</div>"
      ]
    },
    {
      "cell_type": "markdown",
      "metadata": {
        "cell_ktag": "IWMjRooj5raQ",
        "id": "mwIZAFpGKIWU"
      },
      "source": [
        "## Question 3 :\n",
        "> Now start from a pretained model on Imagenet (https://pytorch.org/vision/stable/models.html#) and only train the last layer. Provide the training process in the notebook with training curve.\n",
        "\n",
        " Provide two files : (https://pytorch.org/tutorials/beginner/saving_loading_models.html)\n",
        " -  a file  `utils.py` containing only the last layer class `LastLayer` inheriting from `torch.nn.Module` architecture of your final model to load\n",
        " -  a `last_layer_finetune.pth` file containing __only the last layer weights__ ( we will check the size)\n",
        "\n",
        " We will test your model on final accuracy on a test set.\n",
        ""
      ]
    },
    {
      "cell_type": "code",
      "source": [
        "import torch\n",
        "import torch.nn as nn\n",
        "import torch.optim as optim\n",
        "import matplotlib.pyplot as plt\n",
        "from torch.utils.data import DataLoader\n",
        "from torchvision import models, transforms, datasets\n",
        "from utils import LastLayer\n",
        "\n",
        "# Device configuration\n",
        "device = torch.device(\"cuda\" if torch.cuda.is_available() else \"cpu\")\n",
        "\n",
        "training_dataloader= DataLoader(north_dataset, batch_size=32, shuffle=True)\n",
        "test_dataloader = DataLoader(test_dataset, batch_size=32, shuffle=False)\n",
        "\n",
        "# Load the pretrained ResNet18 model\n",
        "resnet = models.resnet18(weights=\"IMAGENET1K_V1\")\n",
        "# Replace the final fully connected layer with our custom LastLayer\n",
        "resnet.fc = LastLayer()\n",
        "resnet = resnet.to(device)\n",
        "\n",
        "# Freeze all parameters except the ones in the final layer\n",
        "for name, param in resnet.named_parameters():\n",
        "    if \"fc\" not in name:\n",
        "        param.requires_grad = False\n",
        "\n",
        "# Define loss function and optimizer (only for last layer parameters)\n",
        "criterion = nn.CrossEntropyLoss()\n",
        "optimizer = optim.Adam(resnet.fc.parameters(), lr=1e-3)\n",
        "\n",
        "# Lists to store training loss and accuracy for each epoch\n",
        "num_epochs = 20\n",
        "train_losses = []\n",
        "train_accuracies = []\n",
        "\n",
        "# Training loop\n",
        "for epoch in range(num_epochs):\n",
        "    resnet.train()\n",
        "    running_loss = 0.0\n",
        "    correct = 0\n",
        "    total = 0\n",
        "\n",
        "    for images, labels in training_dataloader:\n",
        "        images, labels = images.to(device), labels.to(device)\n",
        "\n",
        "        optimizer.zero_grad()\n",
        "        outputs = resnet(images)\n",
        "        loss = criterion(outputs, labels)\n",
        "        loss.backward()\n",
        "        optimizer.step()\n",
        "\n",
        "        running_loss += loss.item() * images.size(0)\n",
        "        _, predicted = torch.max(outputs, 1)\n",
        "        total += labels.size(0)\n",
        "        correct += (predicted == labels).sum().item()\n",
        "\n",
        "    epoch_loss = running_loss / total\n",
        "    epoch_acc = correct / total\n",
        "    train_losses.append(epoch_loss)\n",
        "    train_accuracies.append(epoch_acc)\n",
        "\n",
        "    print(f\"Epoch {epoch+1}/{num_epochs}, Loss: {epoch_loss:.4f}, Accuracy: {epoch_acc:.4f}\")\n",
        "\n",
        "# Plotting the training curves\n",
        "plt.figure(figsize=(12,5))\n",
        "plt.subplot(1,2,1)\n",
        "plt.plot(train_losses, marker='o')\n",
        "plt.xlabel('Epoch')\n",
        "plt.ylabel('Loss')\n",
        "plt.title('Training Loss Curve')\n",
        "\n",
        "plt.subplot(1,2,2)\n",
        "plt.plot(train_accuracies, marker='o')\n",
        "plt.xlabel('Epoch')\n",
        "plt.ylabel('Accuracy')\n",
        "plt.title('Training Accuracy Curve')\n",
        "plt.show()\n",
        "\n",
        "# Save only the last layer's weights\n",
        "torch.save(resnet.fc.state_dict(), \"last_layer_finetune.pth\")\n"
      ],
      "metadata": {
        "colab": {
          "base_uri": "https://localhost:8080/",
          "height": 834
        },
        "id": "TLEUS6KhPwQH",
        "outputId": "5e04fddd-893c-488d-eb69-5f11db33f0f7"
      },
      "execution_count": 19,
      "outputs": [
        {
          "output_type": "stream",
          "name": "stdout",
          "text": [
            "Epoch 1/20, Loss: 0.6740, Accuracy: 0.5952\n",
            "Epoch 2/20, Loss: 0.6967, Accuracy: 0.7381\n",
            "Epoch 3/20, Loss: 0.6465, Accuracy: 0.7381\n",
            "Epoch 4/20, Loss: 0.5416, Accuracy: 0.7381\n",
            "Epoch 5/20, Loss: 0.5313, Accuracy: 0.7619\n",
            "Epoch 6/20, Loss: 0.5049, Accuracy: 0.8333\n",
            "Epoch 7/20, Loss: 0.4439, Accuracy: 0.8333\n",
            "Epoch 8/20, Loss: 0.4168, Accuracy: 0.7619\n",
            "Epoch 9/20, Loss: 0.3979, Accuracy: 0.7381\n",
            "Epoch 10/20, Loss: 0.3755, Accuracy: 0.7381\n",
            "Epoch 11/20, Loss: 0.3454, Accuracy: 0.8095\n",
            "Epoch 12/20, Loss: 0.3115, Accuracy: 0.9048\n",
            "Epoch 13/20, Loss: 0.2903, Accuracy: 0.9286\n",
            "Epoch 14/20, Loss: 0.2973, Accuracy: 0.9762\n",
            "Epoch 15/20, Loss: 0.3020, Accuracy: 0.9048\n",
            "Epoch 16/20, Loss: 0.2457, Accuracy: 0.9762\n",
            "Epoch 17/20, Loss: 0.2249, Accuracy: 0.9762\n",
            "Epoch 18/20, Loss: 0.2168, Accuracy: 0.9762\n",
            "Epoch 19/20, Loss: 0.2047, Accuracy: 0.9762\n",
            "Epoch 20/20, Loss: 0.2188, Accuracy: 0.9524\n"
          ]
        },
        {
          "output_type": "display_data",
          "data": {
            "text/plain": [
              "<Figure size 1200x500 with 2 Axes>"
            ],
            "image/png": "[encoded data removed]"
          },
          "metadata": {}
        }
      ]
    },
    {
      "cell_type": "code",
      "execution_count": null,
      "metadata": {
        "cell_ktag": "IWMjRooj5raQ",
        "id": "4U-R9lqfKIWU"
      },
      "outputs": [],
      "source": [
        "torch.save(base_model.fc.state_dict(), \"lastlayer.pth\")"
      ]
    },
    {
      "cell_type": "code",
      "execution_count": null,
      "metadata": {
        "cell_ktag": "IWMjRooj5raQ",
        "id": "-DQedkF5KIWU"
      },
      "outputs": [],
      "source": [
        "from utils import LastLayer\n",
        "\n",
        "\n",
        "resnet = models.resnet18(weights=\"DEFAULT\")\n",
        "fc = LastLayer()  # !  Important : No argument\n",
        "fc.load_state_dict(torch.load(\"lastlayer.pth\", weights_only=True))\n",
        "resnet.fc = fc\n",
        "resnet.eval()\n"
      ]
    },
    {
      "cell_type": "markdown",
      "metadata": {
        "cell_ktag": "IWMjRooj5raQ",
        "id": "pRSMr2qAKIWV"
      },
      "source": [
        "## Question 4 :\n",
        "> Perform  LoRA https://arxiv.org/pdf/2106.09685  on the model  (We are perfectly fine if you use an external library **for this question only**, and of course use it in the next questions). (Warning : without data augmentation it may not improve the accuracy.)\n",
        "\n",
        "Intermediate question : Describe LoRA. There are different ways of implementing LoRa for convolutions. You can choose your preferred one. Explain the version of LoRa you used, provide a drawing of the process in the `drawing_lora.png` file. (Hint: you can obtain a small rank convolution by combining a convolution and a 1x1 convolution. One of the two goes from a higher number of channels to a lower number of channels and the other one restores the number of channels.)"
      ]
    },
    {
      "cell_type": "code",
      "source": [
        "import torch.nn as nn\n",
        "\n",
        "\n",
        "class LoRAConv2d(nn.Module):\n",
        "    def __init__(self, conv_layer: nn.Conv2d, r: int = 4):\n",
        "        super(LoRAConv2d, self).__init__()\n",
        "        # Freeze the original convolution weights.\n",
        "        self.conv = conv_layer\n",
        "        self.conv.weight.requires_grad = False\n",
        "\n",
        "        # Use the same stride as the original conv layer so that the spatial dimensions match.\n",
        "        self.lora_down = nn.Conv2d(\n",
        "            conv_layer.in_channels, r, kernel_size=1, stride=conv_layer.stride, bias=False\n",
        "        )\n",
        "        self.lora_up = nn.Conv2d(\n",
        "            r, conv_layer.out_channels, kernel_size=1, stride=1, bias=False\n",
        "        )\n",
        "        # Initialize the up projection to zeros so that initially the module behaves like the original conv.\n",
        "        nn.init.zeros_(self.lora_up.weight)\n",
        "\n",
        "    def forward(self, x):\n",
        "        # The original conv output and the LoRA branch output now have matching spatial dimensions.\n",
        "        return self.conv(x) + self.lora_up(self.lora_down(x))\n"
      ],
      "metadata": {
        "id": "AWECaT3BU78y"
      },
      "execution_count": 24,
      "outputs": []
    },
    {
      "cell_type": "code",
      "source": [
        "import torchvision.models as models\n",
        "\n",
        "def apply_lora(model: nn.Module, r: int = 4):\n",
        "    for name, module in list(model.named_children()):\n",
        "        if isinstance(module, nn.Conv2d):\n",
        "            setattr(model, name, LoRAConv2d(module, r=r))\n",
        "        else:\n",
        "            # Recursively apply LoRA to submodules.\n",
        "            apply_lora(module, r=r)\n",
        "    return model\n",
        "\n",
        "# Create your model and apply LoRA\n",
        "lora_model = models.resnet18(weights=\"DEFAULT\")\n",
        "lora_model.fc = LastLayer()  # use your custom last layer if needed\n",
        "lora_model = apply_lora(lora_model, r=4)\n",
        "\n",
        "# Define training data augmentation/transforms.\n",
        "train_transforms = transforms.Compose([\n",
        "    transforms.Resize((224, 224)),\n",
        "    transforms.RandomHorizontalFlip(),\n",
        "    transforms.ToTensor(),\n",
        "])\n",
        "\n",
        "# At this point, only the parameters of the LoRA adapters (lora_down and lora_up) and any unfrozen parts (e.g., fc) have requires_grad=True.\n",
        "# Create an optimizer that only updates the trainable parameters.\n",
        "optimizer = optim.Adam(filter(lambda p: p.requires_grad, lora_model.parameters()), lr=1e-3)\n",
        "criterion = nn.CrossEntropyLoss()\n",
        "\n",
        "# Training loop settings\n",
        "num_epochs = 20\n",
        "train_losses = []\n",
        "train_accuracies = []\n",
        "\n",
        "for epoch in range(num_epochs):\n",
        "    lora_model.train()\n",
        "    running_loss = 0.0\n",
        "    correct = 0\n",
        "    total = 0\n",
        "\n",
        "    for images, labels in training_dataloader:\n",
        "        images, labels = images.to(device), labels.to(device)\n",
        "\n",
        "        optimizer.zero_grad()\n",
        "        outputs = lora_model(images)\n",
        "        loss = criterion(outputs, labels)\n",
        "        loss.backward()\n",
        "        optimizer.step()\n",
        "\n",
        "        running_loss += loss.item() * images.size(0)\n",
        "        _, predicted = torch.max(outputs, 1)\n",
        "        total += labels.size(0)\n",
        "        correct += (predicted == labels).sum().item()\n",
        "\n",
        "    epoch_loss = running_loss / total\n",
        "    epoch_acc = correct / total\n",
        "    train_losses.append(epoch_loss)\n",
        "    train_accuracies.append(epoch_acc)\n",
        "\n",
        "    print(f\"Epoch {epoch+1}/{num_epochs}, Loss: {epoch_loss:.4f}, Accuracy: {epoch_acc:.4f}\")\n",
        "\n",
        "# Plot training curves\n",
        "plt.figure(figsize=(12, 5))\n",
        "plt.subplot(1, 2, 1)\n",
        "plt.plot(train_losses, marker='o')\n",
        "plt.xlabel('Epoch')\n",
        "plt.ylabel('Loss')\n",
        "plt.title('LoRA Model Training Loss')\n",
        "\n",
        "plt.subplot(1, 2, 2)\n",
        "plt.plot(train_accuracies, marker='o')\n",
        "plt.xlabel('Epoch')\n",
        "plt.ylabel('Accuracy')\n",
        "plt.title('LoRA Model Training Accuracy')\n",
        "plt.show()\n",
        "\n",
        "\n",
        "\n",
        "# Save the LoRA model state dictionary\n",
        "torch.save(lora_model.state_dict(), \"lora_resnet.pth\")\n"
      ],
      "metadata": {
        "colab": {
          "base_uri": "https://localhost:8080/",
          "height": 1000
        },
        "id": "xgrgKekDVC3e",
        "outputId": "8abf38cb-54a7-4cbe-d25b-62ba90579076"
      },
      "execution_count": 25,
      "outputs": [
        {
          "output_type": "stream",
          "name": "stdout",
          "text": [
            "torch.Size([32, 3, 256, 256])\n",
            "torch.Size([10, 3, 256, 256])\n",
            "Epoch 1/20, Loss: 0.8049, Accuracy: 0.4048\n",
            "torch.Size([32, 3, 256, 256])\n",
            "torch.Size([10, 3, 256, 256])\n",
            "Epoch 2/20, Loss: 0.5449, Accuracy: 0.7381\n",
            "torch.Size([32, 3, 256, 256])\n",
            "torch.Size([10, 3, 256, 256])\n",
            "Epoch 3/20, Loss: 0.4783, Accuracy: 0.7381\n",
            "torch.Size([32, 3, 256, 256])\n",
            "torch.Size([10, 3, 256, 256])\n",
            "Epoch 4/20, Loss: 0.3574, Accuracy: 0.7619\n",
            "torch.Size([32, 3, 256, 256])\n",
            "torch.Size([10, 3, 256, 256])\n",
            "Epoch 5/20, Loss: 0.2469, Accuracy: 0.9524\n",
            "torch.Size([32, 3, 256, 256])\n",
            "torch.Size([10, 3, 256, 256])\n",
            "Epoch 6/20, Loss: 0.2088, Accuracy: 1.0000\n",
            "torch.Size([32, 3, 256, 256])\n",
            "torch.Size([10, 3, 256, 256])\n",
            "Epoch 7/20, Loss: 0.2042, Accuracy: 1.0000\n",
            "torch.Size([32, 3, 256, 256])\n",
            "torch.Size([10, 3, 256, 256])\n",
            "Epoch 8/20, Loss: 0.1889, Accuracy: 1.0000\n",
            "torch.Size([32, 3, 256, 256])\n",
            "torch.Size([10, 3, 256, 256])\n",
            "Epoch 9/20, Loss: 0.1597, Accuracy: 0.9524\n",
            "torch.Size([32, 3, 256, 256])\n",
            "torch.Size([10, 3, 256, 256])\n",
            "Epoch 10/20, Loss: 0.0819, Accuracy: 1.0000\n",
            "torch.Size([32, 3, 256, 256])\n",
            "torch.Size([10, 3, 256, 256])\n",
            "Epoch 11/20, Loss: 0.0531, Accuracy: 1.0000\n",
            "torch.Size([32, 3, 256, 256])\n",
            "torch.Size([10, 3, 256, 256])\n",
            "Epoch 12/20, Loss: 0.0439, Accuracy: 1.0000\n",
            "torch.Size([32, 3, 256, 256])\n",
            "torch.Size([10, 3, 256, 256])\n",
            "Epoch 13/20, Loss: 0.0253, Accuracy: 1.0000\n",
            "torch.Size([32, 3, 256, 256])\n",
            "torch.Size([10, 3, 256, 256])\n",
            "Epoch 14/20, Loss: 0.0313, Accuracy: 1.0000\n",
            "torch.Size([32, 3, 256, 256])\n",
            "torch.Size([10, 3, 256, 256])\n",
            "Epoch 15/20, Loss: 0.0146, Accuracy: 1.0000\n",
            "torch.Size([32, 3, 256, 256])\n",
            "torch.Size([10, 3, 256, 256])\n",
            "Epoch 16/20, Loss: 0.0111, Accuracy: 1.0000\n",
            "torch.Size([32, 3, 256, 256])\n",
            "torch.Size([10, 3, 256, 256])\n",
            "Epoch 17/20, Loss: 0.0111, Accuracy: 1.0000\n",
            "torch.Size([32, 3, 256, 256])\n",
            "torch.Size([10, 3, 256, 256])\n",
            "Epoch 18/20, Loss: 0.0095, Accuracy: 1.0000\n",
            "torch.Size([32, 3, 256, 256])\n",
            "torch.Size([10, 3, 256, 256])\n",
            "Epoch 19/20, Loss: 0.0054, Accuracy: 1.0000\n",
            "torch.Size([32, 3, 256, 256])\n",
            "torch.Size([10, 3, 256, 256])\n",
            "Epoch 20/20, Loss: 0.0099, Accuracy: 1.0000\n"
          ]
        },
        {
          "output_type": "display_data",
          "data": {
            "text/plain": [
              "<Figure size 1200x500 with 2 Axes>"
            ],
            "image/png": "[encoded data removed]"
          },
          "metadata": {}
        }
      ]
    },
    {
      "cell_type": "code",
      "execution_count": null,
      "metadata": {
        "cell_ktag": "IWMjRooj5raQ",
        "id": "IjgVi6vAKIWV"
      },
      "outputs": [],
      "source": [
        "torch.save(lora_model.state_dict(), \"lora_resnet.pth\")"
      ]
    },
    {
      "cell_type": "markdown",
      "metadata": {
        "cell_ktag": "IWMjRooj5raQ",
        "id": "XwJRlQdhKIWV"
      },
      "source": [
        "## Question 5 :\n",
        "In order to better train our LORA weights, let's do some Data Augmentation https://en.wikipedia.org/wiki/Data_augmentation . Load some alteration of the data from the `torchvision.transforms` module and incorporate them in your training pipeline.\n",
        "\n",
        " Intermediate question : Check CutMix  (https://pytorch.org/vision/stable/auto_examples/transforms/plot_cutmix_mixup.html#sphx-glr-auto-examples-transforms-plot-cutmix-mixup-py) and explain it with a small drawing `cutmix.png`.\n",
        "\n",
        "\n",
        "  Provide one file : (https://pytorch.org/tutorials/beginner/saving_loading_models.html)\n",
        " -  a `daug_resnet.pth` file containing the weight of the ResNet18 after DAUG  (  !  It  has to be of the class ResNet so you have to merge LoRA weights with the ResNet18 weights)"
      ]
    },
    {
      "cell_type": "code",
      "execution_count": null,
      "metadata": {
        "cell_ktag": "IWMjRooj5raQ",
        "id": "h3Tn96O_KIWV"
      },
      "outputs": [],
      "source": [
        "## Data Augmentation\n",
        "from torchvision.transforms import v2"
      ]
    },
    {
      "cell_type": "code",
      "execution_count": null,
      "metadata": {
        "cell_ktag": "IWMjRooj5raQ",
        "id": "xk-yCacIKIWV"
      },
      "outputs": [],
      "source": [
        "lora_model = NotImplementedError  # <YOUR CODE>\n",
        "assert isinstance(lora_model, models.ResNet)"
      ]
    },
    {
      "cell_type": "code",
      "execution_count": null,
      "metadata": {
        "cell_ktag": "IWMjRooj5raQ",
        "id": "voOoK7PpKIWV"
      },
      "outputs": [],
      "source": [
        "torch.save(lora_model.state_dict(), \"daug_resnet.pth\")"
      ]
    },
    {
      "cell_type": "markdown",
      "metadata": {
        "cell_ktag": "IWMjRooj5raQ",
        "id": "4i4-11i-KIWV"
      },
      "source": [
        "## Question 6 : (BONUS)\n",
        "> Do the best you can : improve performance on test set while keeping ResNet 18 architecture, or decrease the size of the model\n",
        "\n",
        "Provide a file  `final_model.pth` containing the weights of the final model and provide the class `FinalModel()` in the `utils.py` file."
      ]
    },
    {
      "cell_type": "markdown",
      "metadata": {
        "cell_ktag": "IWMjRooj5raQ",
        "id": "05UNjskqKIWV"
      },
      "source": []
    }
  ],
  "metadata": {
    "kernelspec": {
      "display_name": "Python 3",
      "language": "python",
      "name": "python3"
    },
    "kfiletag": "IWMjRooj5raQ",
    "language_info": {
      "codemirror_mode": {
        "name": "ipython",
        "version": 3
      },
      "file_extension": ".py",
      "mimetype": "text/x-python",
      "name": "python",
      "nbconvert_exporter": "python",
      "pygments_lexer": "ipython3",
      "version": "3.7.6"
    },
    "colab": {
      "provenance": []
    }
  },
  "nbformat": 4,
  "nbformat_minor": 0
}